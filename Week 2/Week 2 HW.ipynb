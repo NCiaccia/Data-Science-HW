{
 "cells": [
  {
   "cell_type": "code",
   "execution_count": 1,
   "metadata": {},
   "outputs": [
    {
     "name": "stdout",
     "output_type": "stream",
     "text": [
      "[None, None, None, None, 1, None, None, None, None, None]\n"
     ]
    }
   ],
   "source": [
    "#1. Create a null array of size 10 but the fifth value which is 1\n",
    "import numpy as np\n",
    "a = [None]*10\n",
    "a[4]=1\n",
    "np.array(a)\n",
    "print(a)\n"
   ]
  },
  {
   "cell_type": "code",
   "execution_count": 2,
   "metadata": {},
   "outputs": [
    {
     "name": "stdout",
     "output_type": "stream",
     "text": [
      "[None, None, None, None, None, 1, None, None, None, None]\n"
     ]
    }
   ],
   "source": [
    "#2. Reverse a above created array (first element becomes last)\n",
    "b = a[::-1]\n",
    "print(b)"
   ]
  },
  {
   "cell_type": "code",
   "execution_count": 3,
   "metadata": {},
   "outputs": [
    {
     "name": "stdout",
     "output_type": "stream",
     "text": [
      "[[0 1 2]\n",
      " [3 4 5]\n",
      " [6 7 8]]\n",
      "\n",
      "[[2 0 7]\n",
      " [6 3 5]\n",
      " [3 1 3]]\n"
     ]
    }
   ],
   "source": [
    "#3. Create a 3x3 matrix with values ranging from 0 to 8\n",
    "    #NC: I didnt know if we were supposed to do the values 0-8 or random values between 0 and 8 so I did both\n",
    "c=np.arange(9).reshape((3,3))  \n",
    "d = np.random.randint(low=0, high=8, size=(3,3))\n",
    "\n",
    "print(c)\n",
    "print()\n",
    "print(d)"
   ]
  },
  {
   "cell_type": "code",
   "execution_count": 4,
   "metadata": {},
   "outputs": [
    {
     "name": "stdout",
     "output_type": "stream",
     "text": [
      "(array([0, 1, 4], dtype=int64),)\n"
     ]
    }
   ],
   "source": [
    "#4. Find indices of non-zero elements from [1,2,0,0,4,0]\n",
    "e = [1,2,0,0,4,0]\n",
    "f = np.nonzero(e)\n",
    "print(f)"
   ]
  },
  {
   "cell_type": "code",
   "execution_count": 5,
   "metadata": {},
   "outputs": [
    {
     "name": "stdout",
     "output_type": "stream",
     "text": [
      "[[[0.7023926  0.94792094 0.46762904]\n",
      "  [0.03641502 0.40544578 0.8215634 ]\n",
      "  [0.72076778 0.73833419 0.40106012]]\n",
      "\n",
      " [[0.56528151 0.57791634 0.41529773]\n",
      "  [0.45019646 0.65362858 0.99233051]\n",
      "  [0.48556    0.51568775 0.99207566]]\n",
      "\n",
      " [[0.89051721 0.67097497 0.76266156]\n",
      "  [0.72032852 0.88778159 0.23553844]\n",
      "  [0.74132628 0.81235079 0.85080199]]]\n"
     ]
    }
   ],
   "source": [
    "#5. Create a 3x3x3 array with random values\n",
    "g = np.random.random((3,3,3))\n",
    "print(g)"
   ]
  },
  {
   "cell_type": "code",
   "execution_count": 6,
   "metadata": {},
   "outputs": [
    {
     "name": "stdout",
     "output_type": "stream",
     "text": [
      "[[41 56 82 70 17 97 79 99 13 31]\n",
      " [12 46 56 56 70 88 40 90 43 37]\n",
      " [24 33 30 41 43 42 47 63  9 89]\n",
      " [13 96 48 35 71 65 32 30 53 86]\n",
      " [96 51 55 70 29 79  2 76 54 72]\n",
      " [46 58 86 23 76 76 78 19  0 53]\n",
      " [ 9 50 49 44 13 34 44 19 86  2]\n",
      " [19 13 57 80 53 98 76 63 34 52]\n",
      " [ 9 63 69 51 13 70 49 98 21  6]\n",
      " [83 68 47 16 33 95 57  3  7  1]]\n",
      "Min is 0\n",
      "Max is 99\n"
     ]
    }
   ],
   "source": [
    "#6. Create a 10x10 array with random values and find the minimum and maximum values\n",
    "h = np.random.randint(low=0,high=100,size=(10,10))\n",
    "print(h)\n",
    "a=np.min(h)\n",
    "b=np.max(h)\n",
    "print(f\"Min is {a}\")\n",
    "print(f\"Max is {b}\")"
   ]
  },
  {
   "cell_type": "code",
   "execution_count": 7,
   "metadata": {},
   "outputs": [
    {
     "name": "stdout",
     "output_type": "stream",
     "text": [
      "[0.89250353 0.49223992 0.47118566 0.4237498  0.98816801 0.18472784\n",
      " 0.10593212 0.16371364 0.43747835 0.88961747 0.45363998 0.71880985\n",
      " 0.7628771  0.85591497 0.04173453 0.43231032 0.3526083  0.86543657\n",
      " 0.07410296 0.84938159 0.11431455 0.63265674 0.13160304 0.09922387\n",
      " 0.05401521 0.47516486 0.17954068 0.4547108  0.37329385 0.03850794]\n",
      "Mean is 0.4336388024520505\n"
     ]
    }
   ],
   "source": [
    "#7. Create a random vector of size 30 and find the mean value\n",
    "i=np.random.random(30)\n",
    "print(i)\n",
    "a = np.mean(i)\n",
    "print(f\"Mean is {a}\")"
   ]
  },
  {
   "cell_type": "code",
   "execution_count": 8,
   "metadata": {},
   "outputs": [
    {
     "name": "stdout",
     "output_type": "stream",
     "text": [
      "[[1 1 1 1]\n",
      " [1 0 0 1]\n",
      " [1 0 0 1]\n",
      " [1 1 1 1]]\n",
      "[[1 1 1 1]\n",
      " [1 0 0 1]\n",
      " [1 0 0 1]\n",
      " [1 1 1 1]]\n"
     ]
    }
   ],
   "source": [
    "#8. Create a 2d array with 1 on the border and 0 inside\n",
    "j = np.array([[1,1,1,1], [1,0,0,1],[1,0,0,1],[1,1,1,1]])\n",
    "print(j)\n",
    "\n",
    "#alternative way:\n",
    "k=np.zeros((4,4),dtype=int)\n",
    "k[:, 0] =  1\n",
    "k[:, 3] =  1\n",
    "k[0, :] =  1\n",
    "k[3, :] =  1\n",
    "print(k)"
   ]
  },
  {
   "cell_type": "code",
   "execution_count": 9,
   "metadata": {},
   "outputs": [
    {
     "name": "stdout",
     "output_type": "stream",
     "text": [
      "[[6 6 6]\n",
      " [0 2 2]\n",
      " [0 9 5]\n",
      " [7 5 8]\n",
      " [5 9 6]]\n",
      "[[5 4]\n",
      " [9 9]\n",
      " [0 5]]\n",
      "[[ 84 108]\n",
      " [ 18  28]\n",
      " [ 81 106]\n",
      " [ 80 113]\n",
      " [106 131]]\n"
     ]
    }
   ],
   "source": [
    "#9. Multiply a 5x3 matrix by a 3x2 matrix (real matrix product)\n",
    "l=np.random.randint(low=0,high=10,size=(5,3))\n",
    "m=np.random.randint(low=0,high=10,size=(3,2))\n",
    "n= np.dot(l,m)\n",
    "print(l)\n",
    "print(m)\n",
    "print(n)"
   ]
  },
  {
   "cell_type": "code",
   "execution_count": 10,
   "metadata": {},
   "outputs": [
    {
     "name": "stdout",
     "output_type": "stream",
     "text": [
      "[1.16093831 1.45329381 3.2327539  1.79690917 0.0113563  0.32072827\n",
      " 1.22220882 1.60862759 3.0273738  3.47567774 2.64540257 1.20351802\n",
      " 0.14094123 0.47522844 2.02476403 0.15790894 2.52566048 2.7237774\n",
      " 1.32000307 0.61032982]\n"
     ]
    },
    {
     "data": {
      "text/plain": [
       "array([1., 1., 3., 1., 0., 0., 1., 1., 3., 3., 2., 1., 0., 0., 2., 0., 2.,\n",
       "       2., 1., 0.])"
      ]
     },
     "execution_count": 10,
     "metadata": {},
     "output_type": "execute_result"
    }
   ],
   "source": [
    "#10. Extract the integer part of a random array\n",
    "o = np.random.random(20)*3.5\n",
    "print(o)\n",
    "np.floor(o)\n",
    "\n"
   ]
  },
  {
   "cell_type": "code",
   "execution_count": 11,
   "metadata": {},
   "outputs": [
    {
     "name": "stdout",
     "output_type": "stream",
     "text": [
      "[[2 3 1 1 2]\n",
      " [3 1 0 2 3]\n",
      " [1 0 0 0 3]\n",
      " [0 0 1 0 0]\n",
      " [2 2 1 0 0]]\n"
     ]
    }
   ],
   "source": [
    "#11. Create a 5x5 matrix with row values ranging from 0 to 4\n",
    "p=np.random.randint(low=0, high=4, size=(5,5))\n",
    "print(p)"
   ]
  },
  {
   "cell_type": "code",
   "execution_count": 12,
   "metadata": {},
   "outputs": [
    {
     "name": "stdout",
     "output_type": "stream",
     "text": [
      "[11 77 98 75  9 45 61 24 62 74]\n"
     ]
    },
    {
     "data": {
      "text/plain": [
       "array([ 9, 11, 24, 45, 61, 62, 74, 75, 77, 98])"
      ]
     },
     "execution_count": 12,
     "metadata": {},
     "output_type": "execute_result"
    }
   ],
   "source": [
    "#12.  Create a random vector of size 10 and sort it\n",
    "q=np.random.randint(low=0, high=100, size=(10))\n",
    "print(q)\n",
    "np.sort(q)\n"
   ]
  },
  {
   "cell_type": "code",
   "execution_count": 13,
   "metadata": {},
   "outputs": [
    {
     "name": "stdout",
     "output_type": "stream",
     "text": [
      "[76 92 24 13 15 49 72 52 99 51]\n",
      "[56 48 42 17 25 33 35 66 39 33]\n"
     ]
    },
    {
     "data": {
      "text/plain": [
       "False"
      ]
     },
     "execution_count": 13,
     "metadata": {},
     "output_type": "execute_result"
    }
   ],
   "source": [
    "#13. Consider two random array A anb B, check if they are equal.\n",
    "r=np.random.randint(low=0, high=100, size=(10))\n",
    "s=np.random.randint(low=0, high=100, size=(10))\n",
    "print(r)\n",
    "print(s)\n",
    "np.array_equal(r, s)\n"
   ]
  },
  {
   "cell_type": "code",
   "execution_count": 14,
   "metadata": {},
   "outputs": [
    {
     "name": "stdout",
     "output_type": "stream",
     "text": [
      "[[3 5 1 0 0 1 3 7 9 3]]\n",
      "False\n"
     ]
    }
   ],
   "source": [
    "#14. How to tell if a given 2D array has null columns?\n",
    "t = np.random.randint(low=0, high=10,size=(1,10))\n",
    "print(t)\n",
    "check_t=np.isnan(t)\n",
    "print((check_t.any(axis=0)).any())\n"
   ]
  },
  {
   "cell_type": "code",
   "execution_count": 15,
   "metadata": {},
   "outputs": [
    {
     "name": "stdout",
     "output_type": "stream",
     "text": [
      "[[[[ 0  1]\n",
      "   [ 2  3]]\n",
      "\n",
      "  [[ 4  5]\n",
      "   [ 6  7]]]\n",
      "\n",
      "\n",
      " [[[ 8  9]\n",
      "   [10 11]]\n",
      "\n",
      "  [[12 13]\n",
      "   [14 15]]]]\n"
     ]
    },
    {
     "data": {
      "text/plain": [
       "array([[ 6, 22],\n",
       "       [38, 54]])"
      ]
     },
     "execution_count": 15,
     "metadata": {},
     "output_type": "execute_result"
    }
   ],
   "source": [
    "#15. Considering a four dimensions array, how to get sum over the last two axis at once?\n",
    "    #NC: Dont really understand this one\n",
    "u = np.arange(16).reshape((2,2,2,2))\n",
    "print(u) \n",
    "u.sum(axis=(2, 3))"
   ]
  },
  {
   "cell_type": "code",
   "execution_count": 16,
   "metadata": {},
   "outputs": [
    {
     "name": "stdout",
     "output_type": "stream",
     "text": [
      "[[[ 0  1  2]\n",
      "  [ 3  4  5]\n",
      "  [ 6  7  8]\n",
      "  [ 9 10 11]\n",
      "  [12 13 14]]\n",
      "\n",
      " [[15 16 17]\n",
      "  [18 19 20]\n",
      "  [21 22 23]\n",
      "  [24 25 26]\n",
      "  [27 28 29]]\n",
      "\n",
      " [[30 31 32]\n",
      "  [33 34 35]\n",
      "  [36 37 38]\n",
      "  [39 40 41]\n",
      "  [42 43 44]]\n",
      "\n",
      " [[45 46 47]\n",
      "  [48 49 50]\n",
      "  [51 52 53]\n",
      "  [54 55 56]\n",
      "  [57 58 59]]\n",
      "\n",
      " [[60 61 62]\n",
      "  [63 64 65]\n",
      "  [66 67 68]\n",
      "  [69 70 71]\n",
      "  [72 73 74]]]\n",
      "[[ 0  1  2  3  4]\n",
      " [ 5  6  7  8  9]\n",
      " [10 11 12 13 14]\n",
      " [15 16 17 18 19]\n",
      " [20 21 22 23 24]]\n",
      "You cant multiply them because the dimensions dont line up\n"
     ]
    }
   ],
   "source": [
    "#16. Consider an array of dimension (5,5,3), how to multiply it by an array with dimensions (5,5)?\n",
    "v=np.arange(75).reshape((5,5,3))\n",
    "print(v)\n",
    "w=np.arange(25).reshape((5,5))\n",
    "print(w)\n",
    "\n",
    "print('You cant multiply them because the dimensions dont line up')"
   ]
  },
  {
   "cell_type": "code",
   "execution_count": 17,
   "metadata": {},
   "outputs": [
    {
     "name": "stdout",
     "output_type": "stream",
     "text": [
      "[[3 4 3 3 1 2 2 4 0 0]\n",
      " [3 3 4 2 3 3 3 0 1 0]\n",
      " [1 4 4 4 0 0 4 2 2 0]\n",
      " [0 3 2 3 1 1 3 2 3 4]\n",
      " [4 4 3 0 3 4 3 3 1 4]\n",
      " [3 0 2 2 2 1 0 2 4 4]\n",
      " [2 0 4 3 2 0 3 0 1 4]\n",
      " [1 0 1 3 2 1 0 3 4 1]\n",
      " [2 4 1 3 4 0 2 2 3 3]\n",
      " [0 1 0 2 4 3 0 3 1 4]]\n",
      "[[[[3 4 3]\n",
      "   [3 3 4]\n",
      "   [1 4 4]]\n",
      "\n",
      "  [[4 3 3]\n",
      "   [3 4 2]\n",
      "   [4 4 4]]\n",
      "\n",
      "  [[3 3 1]\n",
      "   [4 2 3]\n",
      "   [4 4 0]]\n",
      "\n",
      "  [[3 1 2]\n",
      "   [2 3 3]\n",
      "   [4 0 0]]\n",
      "\n",
      "  [[1 2 2]\n",
      "   [3 3 3]\n",
      "   [0 0 4]]\n",
      "\n",
      "  [[2 2 4]\n",
      "   [3 3 0]\n",
      "   [0 4 2]]\n",
      "\n",
      "  [[2 4 0]\n",
      "   [3 0 1]\n",
      "   [4 2 2]]\n",
      "\n",
      "  [[4 0 0]\n",
      "   [0 1 0]\n",
      "   [2 2 0]]]\n",
      "\n",
      "\n",
      " [[[3 3 4]\n",
      "   [1 4 4]\n",
      "   [0 3 2]]\n",
      "\n",
      "  [[3 4 2]\n",
      "   [4 4 4]\n",
      "   [3 2 3]]\n",
      "\n",
      "  [[4 2 3]\n",
      "   [4 4 0]\n",
      "   [2 3 1]]\n",
      "\n",
      "  [[2 3 3]\n",
      "   [4 0 0]\n",
      "   [3 1 1]]\n",
      "\n",
      "  [[3 3 3]\n",
      "   [0 0 4]\n",
      "   [1 1 3]]\n",
      "\n",
      "  [[3 3 0]\n",
      "   [0 4 2]\n",
      "   [1 3 2]]\n",
      "\n",
      "  [[3 0 1]\n",
      "   [4 2 2]\n",
      "   [3 2 3]]\n",
      "\n",
      "  [[0 1 0]\n",
      "   [2 2 0]\n",
      "   [2 3 4]]]\n",
      "\n",
      "\n",
      " [[[1 4 4]\n",
      "   [0 3 2]\n",
      "   [4 4 3]]\n",
      "\n",
      "  [[4 4 4]\n",
      "   [3 2 3]\n",
      "   [4 3 0]]\n",
      "\n",
      "  [[4 4 0]\n",
      "   [2 3 1]\n",
      "   [3 0 3]]\n",
      "\n",
      "  [[4 0 0]\n",
      "   [3 1 1]\n",
      "   [0 3 4]]\n",
      "\n",
      "  [[0 0 4]\n",
      "   [1 1 3]\n",
      "   [3 4 3]]\n",
      "\n",
      "  [[0 4 2]\n",
      "   [1 3 2]\n",
      "   [4 3 3]]\n",
      "\n",
      "  [[4 2 2]\n",
      "   [3 2 3]\n",
      "   [3 3 1]]\n",
      "\n",
      "  [[2 2 0]\n",
      "   [2 3 4]\n",
      "   [3 1 4]]]\n",
      "\n",
      "\n",
      " [[[0 3 2]\n",
      "   [4 4 3]\n",
      "   [3 0 2]]\n",
      "\n",
      "  [[3 2 3]\n",
      "   [4 3 0]\n",
      "   [0 2 2]]\n",
      "\n",
      "  [[2 3 1]\n",
      "   [3 0 3]\n",
      "   [2 2 2]]\n",
      "\n",
      "  [[3 1 1]\n",
      "   [0 3 4]\n",
      "   [2 2 1]]\n",
      "\n",
      "  [[1 1 3]\n",
      "   [3 4 3]\n",
      "   [2 1 0]]\n",
      "\n",
      "  [[1 3 2]\n",
      "   [4 3 3]\n",
      "   [1 0 2]]\n",
      "\n",
      "  [[3 2 3]\n",
      "   [3 3 1]\n",
      "   [0 2 4]]\n",
      "\n",
      "  [[2 3 4]\n",
      "   [3 1 4]\n",
      "   [2 4 4]]]\n",
      "\n",
      "\n",
      " [[[4 4 3]\n",
      "   [3 0 2]\n",
      "   [2 0 4]]\n",
      "\n",
      "  [[4 3 0]\n",
      "   [0 2 2]\n",
      "   [0 4 3]]\n",
      "\n",
      "  [[3 0 3]\n",
      "   [2 2 2]\n",
      "   [4 3 2]]\n",
      "\n",
      "  [[0 3 4]\n",
      "   [2 2 1]\n",
      "   [3 2 0]]\n",
      "\n",
      "  [[3 4 3]\n",
      "   [2 1 0]\n",
      "   [2 0 3]]\n",
      "\n",
      "  [[4 3 3]\n",
      "   [1 0 2]\n",
      "   [0 3 0]]\n",
      "\n",
      "  [[3 3 1]\n",
      "   [0 2 4]\n",
      "   [3 0 1]]\n",
      "\n",
      "  [[3 1 4]\n",
      "   [2 4 4]\n",
      "   [0 1 4]]]\n",
      "\n",
      "\n",
      " [[[3 0 2]\n",
      "   [2 0 4]\n",
      "   [1 0 1]]\n",
      "\n",
      "  [[0 2 2]\n",
      "   [0 4 3]\n",
      "   [0 1 3]]\n",
      "\n",
      "  [[2 2 2]\n",
      "   [4 3 2]\n",
      "   [1 3 2]]\n",
      "\n",
      "  [[2 2 1]\n",
      "   [3 2 0]\n",
      "   [3 2 1]]\n",
      "\n",
      "  [[2 1 0]\n",
      "   [2 0 3]\n",
      "   [2 1 0]]\n",
      "\n",
      "  [[1 0 2]\n",
      "   [0 3 0]\n",
      "   [1 0 3]]\n",
      "\n",
      "  [[0 2 4]\n",
      "   [3 0 1]\n",
      "   [0 3 4]]\n",
      "\n",
      "  [[2 4 4]\n",
      "   [0 1 4]\n",
      "   [3 4 1]]]\n",
      "\n",
      "\n",
      " [[[2 0 4]\n",
      "   [1 0 1]\n",
      "   [2 4 1]]\n",
      "\n",
      "  [[0 4 3]\n",
      "   [0 1 3]\n",
      "   [4 1 3]]\n",
      "\n",
      "  [[4 3 2]\n",
      "   [1 3 2]\n",
      "   [1 3 4]]\n",
      "\n",
      "  [[3 2 0]\n",
      "   [3 2 1]\n",
      "   [3 4 0]]\n",
      "\n",
      "  [[2 0 3]\n",
      "   [2 1 0]\n",
      "   [4 0 2]]\n",
      "\n",
      "  [[0 3 0]\n",
      "   [1 0 3]\n",
      "   [0 2 2]]\n",
      "\n",
      "  [[3 0 1]\n",
      "   [0 3 4]\n",
      "   [2 2 3]]\n",
      "\n",
      "  [[0 1 4]\n",
      "   [3 4 1]\n",
      "   [2 3 3]]]\n",
      "\n",
      "\n",
      " [[[1 0 1]\n",
      "   [2 4 1]\n",
      "   [0 1 0]]\n",
      "\n",
      "  [[0 1 3]\n",
      "   [4 1 3]\n",
      "   [1 0 2]]\n",
      "\n",
      "  [[1 3 2]\n",
      "   [1 3 4]\n",
      "   [0 2 4]]\n",
      "\n",
      "  [[3 2 1]\n",
      "   [3 4 0]\n",
      "   [2 4 3]]\n",
      "\n",
      "  [[2 1 0]\n",
      "   [4 0 2]\n",
      "   [4 3 0]]\n",
      "\n",
      "  [[1 0 3]\n",
      "   [0 2 2]\n",
      "   [3 0 3]]\n",
      "\n",
      "  [[0 3 4]\n",
      "   [2 2 3]\n",
      "   [0 3 1]]\n",
      "\n",
      "  [[3 4 1]\n",
      "   [2 3 3]\n",
      "   [3 1 4]]]]\n"
     ]
    }
   ],
   "source": [
    "#17. Extract all the contiguous 3x3 blocks from a random 10x10 matrix\n",
    "    #NC: Got this from the internet. Dont really understand\n",
    "x = np.random.randint(0,5,(10,10))\n",
    "print(x)\n",
    "\n",
    "n = 3\n",
    "i = 1 + (x.shape[0]-3)\n",
    "j = 1 + (x.shape[1]-3)\n",
    "result = np.lib.stride_tricks.as_strided(x, shape=(i, j, n, n), strides = x.strides + x.strides)\n",
    "print(result)"
   ]
  },
  {
   "cell_type": "code",
   "execution_count": 18,
   "metadata": {},
   "outputs": [
    {
     "name": "stdout",
     "output_type": "stream",
     "text": [
      "[[  0   1   2   3   4   5   6   7   8   9  10  11  12  13  14  15]\n",
      " [ 16  17  18  19  20  21  22  23  24  25  26  27  28  29  30  31]\n",
      " [ 32  33  34  35  36  37  38  39  40  41  42  43  44  45  46  47]\n",
      " [ 48  49  50  51  52  53  54  55  56  57  58  59  60  61  62  63]\n",
      " [ 64  65  66  67  68  69  70  71  72  73  74  75  76  77  78  79]\n",
      " [ 80  81  82  83  84  85  86  87  88  89  90  91  92  93  94  95]\n",
      " [ 96  97  98  99 100 101 102 103 104 105 106 107 108 109 110 111]\n",
      " [112 113 114 115 116 117 118 119 120 121 122 123 124 125 126 127]\n",
      " [128 129 130 131 132 133 134 135 136 137 138 139 140 141 142 143]\n",
      " [144 145 146 147 148 149 150 151 152 153 154 155 156 157 158 159]\n",
      " [160 161 162 163 164 165 166 167 168 169 170 171 172 173 174 175]\n",
      " [176 177 178 179 180 181 182 183 184 185 186 187 188 189 190 191]\n",
      " [192 193 194 195 196 197 198 199 200 201 202 203 204 205 206 207]\n",
      " [208 209 210 211 212 213 214 215 216 217 218 219 220 221 222 223]\n",
      " [224 225 226 227 228 229 230 231 232 233 234 235 236 237 238 239]\n",
      " [240 241 242 243 244 245 246 247 248 249 250 251 252 253 254 255]]\n",
      "[[ 408  472  536  600]\n",
      " [1432 1496 1560 1624]\n",
      " [2456 2520 2584 2648]\n",
      " [3480 3544 3608 3672]]\n"
     ]
    }
   ],
   "source": [
    "#18. Consider a 16x16 array, how to get the block-sum (block size is 4x4)?\n",
    " #NC: Got this from the internet. Dont really understand\n",
    "a=np.arange(256).reshape((16,16))\n",
    "b = 4\n",
    "c = np.add.reduceat(np.add.reduceat(a, np.arange(0, a.shape[0], b), axis=0),\n",
    "                                       np.arange(0, a.shape[1], b), axis=1)\n",
    "print (a)\n",
    "print (c)\n",
    "\n"
   ]
  },
  {
   "cell_type": "code",
   "execution_count": 27,
   "metadata": {},
   "outputs": [
    {
     "name": "stdout",
     "output_type": "stream",
     "text": [
      "   item1  item2  item3  item4  item5  item6  item7  item8  item9  item10  \\\n",
      "0      1      1      2      1      1      1      1      1      0       1   \n",
      "1      1      1      2      1      1      1      1      2      2       0   \n",
      "2      1      1      1      1      1      1      0      2      2       1   \n",
      "3      1      1      2      1      1      1      1      2      0       1   \n",
      "4      1      0      1      0      0      1      1      2      2       0   \n",
      "\n",
      "   item11        playerID  \n",
      "0       1  tetralogue1001  \n",
      "1       1  tetralogue1002  \n",
      "2       1  tetralogue1007  \n",
      "3       1  tetralogue1011  \n",
      "4       0  tetralogue1013  \n",
      "Mean is 0.9879679144385026\n",
      "SD is 0.6731001300451318\n",
      "0th percentile is 0.0\n",
      "10th percentile is 0.0\n",
      "20th percentile is 0.0\n",
      "30th percentile is 1.0\n",
      "40th percentile is 1.0\n",
      "50th percentile is 1.0\n",
      "60th percentile is 1.0\n",
      "70th percentile is 1.0\n",
      "80th percentile is 2.0\n",
      "90th percentile is 2.0\n",
      "100th percentile is 2.0\n",
      "Percentiles: 0,10,20,30,40,50,60,70,80,90,100 of array \n",
      "[0. 0. 0. 1. 1. 1. 1. 1. 2. 2. 2.]\n",
      "\n"
     ]
    }
   ],
   "source": [
    "#Assignment2:\n",
    "#Calculate summary statistics: mean, std, 0%,10%,20%,…, percentiles (look for how to do that in the numpy documentation) based on the data in the dataset folder. \n",
    "import pandas as pd\n",
    "sample_data=pd.read_csv(r'T:\\Users\\NCiaccia\\Data Science Academy\\Week 2\\dataset\\sample_test_data.csv')\n",
    "print(sample_data.head())\n",
    "#get rid of non numeric column\n",
    "sample_data2=sample_data.drop(columns=['playerID'])\n",
    "arr=sample_data2.to_numpy()\n",
    "mean=np.mean(arr)\n",
    "print(f\"Mean is {mean}\")\n",
    "sd=np.std(arr)\n",
    "print(f\"SD is {sd}\")\n",
    "\n",
    "#One way to get percentiles\n",
    "percentiles=[0,10,20,30,40,50,60,70,80,90,100]\n",
    "for p in percentiles:\n",
    "    print (f'{p}th percentile is %s'%(str(np.percentile(arr,p))))\n",
    "\n",
    "#Get percentiles avoding the for loop\n",
    "print ('Percentiles: 0,10,20,30,40,50,60,70,80,90,100 of array \\n%s\\n'%np.percentile(sample_data2, [0,10,20,30,40,50,60,70,80,90,100]))\n"
   ]
  },
  {
   "cell_type": "code",
   "execution_count": 28,
   "metadata": {},
   "outputs": [
    {
     "name": "stdout",
     "output_type": "stream",
     "text": [
      "[-31.26798095 -32.68268686  -4.42012364 127.88559982   8.4451822\n",
      "  -3.26265222  68.29622985 -10.38077806 -60.61169066  14.10936527\n",
      "  58.86095824 -91.4772793  -48.83530399 -37.88764962  83.52766411\n",
      " -71.83380682 -29.04479499  25.38647979  77.34339967  -1.41934346]\n",
      "[ 58.16988678   1.18483043  40.04328182  11.51252479  -7.50348141\n",
      "  23.94948347  -4.01978012 -32.31603866  17.21479619  12.22057362]\n"
     ]
    },
    {
     "data": {
      "text/plain": [
       "Ttest_indResult(statistic=-0.5239019131199407, pvalue=0.6044693858076157)"
      ]
     },
     "execution_count": 28,
     "metadata": {},
     "output_type": "execute_result"
    }
   ],
   "source": [
    "#Assignment 3: \n",
    "#Generate 2 random gaussian distributions and run a t-test to see differences\n",
    "from scipy import stats\n",
    "a = np.random.normal(0, 50, size=20)\n",
    "b = np.random.normal(1, 35, size=10)\n",
    "print(a)\n",
    "print(b)\n",
    "stats.ttest_ind(a, b)"
   ]
  },
  {
   "cell_type": "code",
   "execution_count": null,
   "metadata": {},
   "outputs": [],
   "source": []
  }
 ],
 "metadata": {
  "hide_input": false,
  "kernelspec": {
   "display_name": "Python 3 (ipykernel)",
   "language": "python",
   "name": "python3"
  },
  "language_info": {
   "codemirror_mode": {
    "name": "ipython",
    "version": 3
   },
   "file_extension": ".py",
   "mimetype": "text/x-python",
   "name": "python",
   "nbconvert_exporter": "python",
   "pygments_lexer": "ipython3",
   "version": "3.8.11"
  }
 },
 "nbformat": 4,
 "nbformat_minor": 4
}
